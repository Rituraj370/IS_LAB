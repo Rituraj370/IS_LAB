{
 "cells": [
  {
   "cell_type": "code",
   "execution_count": 1,
   "id": "d50a7000",
   "metadata": {},
   "outputs": [
    {
     "ename": "ModuleNotFoundError",
     "evalue": "No module named 'seaborn'",
     "output_type": "error",
     "traceback": [
      "\u001b[0;31m---------------------------------------------------------------------------\u001b[0m",
      "\u001b[0;31mModuleNotFoundError\u001b[0m                       Traceback (most recent call last)",
      "Cell \u001b[0;32mIn [1], line 4\u001b[0m\n\u001b[1;32m      2\u001b[0m \u001b[38;5;28;01mimport\u001b[39;00m \u001b[38;5;21;01mpandas\u001b[39;00m \u001b[38;5;28;01mas\u001b[39;00m \u001b[38;5;21;01mpd\u001b[39;00m\n\u001b[1;32m      3\u001b[0m \u001b[38;5;28;01mimport\u001b[39;00m \u001b[38;5;21;01mmatplotlib\u001b[39;00m\u001b[38;5;21;01m.\u001b[39;00m\u001b[38;5;21;01mpyplot\u001b[39;00m \u001b[38;5;28;01mas\u001b[39;00m \u001b[38;5;21;01mplt\u001b[39;00m\n\u001b[0;32m----> 4\u001b[0m \u001b[38;5;28;01mimport\u001b[39;00m \u001b[38;5;21;01mseaborn\u001b[39;00m \u001b[38;5;28;01mas\u001b[39;00m \u001b[38;5;21;01msns\u001b[39;00m\n\u001b[1;32m      5\u001b[0m \u001b[38;5;28;01mfrom\u001b[39;00m \u001b[38;5;21;01msklearn\u001b[39;00m\u001b[38;5;21;01m.\u001b[39;00m\u001b[38;5;21;01mdatasets\u001b[39;00m \u001b[38;5;28;01mimport\u001b[39;00m load_wine\n\u001b[1;32m      6\u001b[0m sns\u001b[38;5;241m.\u001b[39mset()\n",
      "\u001b[0;31mModuleNotFoundError\u001b[0m: No module named 'seaborn'"
     ]
    }
   ],
   "source": [
    "import numpy as np\n",
    "import pandas as pd\n",
    "import matplotlib.pyplot as plt\n",
    "import seaborn as sns\n",
    "from sklearn.datasets import load_wine\n",
    "sns.set()"
   ]
  },
  {
   "cell_type": "code",
   "execution_count": null,
   "id": "5951eefb",
   "metadata": {},
   "outputs": [],
   "source": [
    "data = pd.read_csv('penguins_size.csv')\n",
    "data.info()"
   ]
  },
  {
   "cell_type": "code",
   "execution_count": null,
   "id": "489b9a24",
   "metadata": {},
   "outputs": [],
   "source": [
    "data.head()"
   ]
  },
  {
   "cell_type": "code",
   "execution_count": null,
   "id": "deb73ae8",
   "metadata": {},
   "outputs": [],
   "source": [
    "100*data.isnull().sum()/len(data)"
   ]
  },
  {
   "cell_type": "code",
   "execution_count": null,
   "id": "cc1d0eff",
   "metadata": {},
   "outputs": [],
   "source": [
    "data['sex'].fillna(data['sex'].mode()[0],inplace=True)\n",
    "col_to_be_imputed = ['culmen_length_mm', 'culmen_depth_mm','flipper_length_mm', 'body_mass_g']\n",
    "for item in col_to_be_imputed:\n",
    "    data[item].fillna(data[item].mean(),inplace=True)"
   ]
  },
  {
   "cell_type": "code",
   "execution_count": null,
   "id": "ba85b561",
   "metadata": {},
   "outputs": [],
   "source": [
    "data[data['sex']=='.']"
   ]
  },
  {
   "cell_type": "code",
   "execution_count": null,
   "id": "a22634c6",
   "metadata": {},
   "outputs": [],
   "source": [
    "data.loc[336,'sex'] = 'FEMALE'"
   ]
  },
  {
   "cell_type": "code",
   "execution_count": null,
   "id": "f374775f",
   "metadata": {},
   "outputs": [],
   "source": [
    "data['species']=data['species'].map({'Adelie':0,'Gentoo':1,'Chinstrap':2})\n",
    "\n",
    "# creating dummy variables for categorical features\n",
    "dummies = pd.get_dummies(data[['island','sex']],drop_first=True)"
   ]
  },
  {
   "cell_type": "code",
   "execution_count": null,
   "id": "1ebb9cc6",
   "metadata": {},
   "outputs": [],
   "source": [
    "df_to_be_scaled = data.drop(['island','sex'],axis=1)\n",
    "target = df_to_be_scaled.species\n",
    "df_feat= df_to_be_scaled.drop('species',axis=1)"
   ]
  },
  {
   "cell_type": "code",
   "execution_count": null,
   "id": "86b50350",
   "metadata": {},
   "outputs": [],
   "source": [
    "from sklearn.preprocessing import StandardScaler\n",
    "scaler = StandardScaler()\n",
    "scaler.fit(df_feat)\n",
    "df_scaled = scaler.transform(df_feat)\n",
    "df_scaled = pd.DataFrame(df_scaled,columns=df_feat.columns[:4])\n",
    "df_preprocessed = pd.concat([df_scaled,dummies,target],axis=1)\n",
    "df_preprocessed.head()"
   ]
  },
  {
   "cell_type": "code",
   "execution_count": null,
   "id": "886b9673",
   "metadata": {},
   "outputs": [],
   "source": [
    "data[data['sex']=='.']"
   ]
  },
  {
   "cell_type": "code",
   "execution_count": null,
   "id": "35b02ea9",
   "metadata": {},
   "outputs": [],
   "source": [
    "data.loc[336,'sex'] = 'FEMALE'\n",
    "\n",
    "\n"
   ]
  },
  {
   "cell_type": "code",
   "execution_count": null,
   "id": "2bc503d4",
   "metadata": {},
   "outputs": [],
   "source": [
    "100*data.isnull().sum()/len(data)"
   ]
  },
  {
   "cell_type": "code",
   "execution_count": null,
   "id": "026cd758",
   "metadata": {},
   "outputs": [],
   "source": [
    "data['sex'].fillna(data['sex'].mode()[0],inplace=True)\n",
    "col_to_be_imputed = ['culmen_length_mm', 'culmen_depth_mm','flipper_length_mm', 'body_mass_g']\n",
    "for item in col_to_be_imputed:\n",
    "    data[item].fillna(data[item].mean(),inplace=True)"
   ]
  },
  {
   "cell_type": "code",
   "execution_count": null,
   "id": "e4149297",
   "metadata": {},
   "outputs": [],
   "source": [
    "from sklearn.preprocessing import StandardScaler\n",
    "scaler = StandardScaler()\n",
    "scaler.fit(df_feat)\n",
    "df_scaled = scaler.transform(df_feat)\n",
    "df_scaled = pd.DataFrame(df_scaled,columns=df_feat.columns[:4])\n",
    "df_preprocessed = pd.concat([df_scaled,dummies,target],axis=1)\n",
    "df_preprocessed.head()"
   ]
  },
  {
   "cell_type": "code",
   "execution_count": null,
   "id": "67878e63",
   "metadata": {},
   "outputs": [],
   "source": []
  },
  {
   "cell_type": "code",
   "execution_count": null,
   "id": "991b04c5",
   "metadata": {},
   "outputs": [],
   "source": [
    "from sklearn.metrics import confusion_matrix\n",
    "from sklearn.model_selection import train_test_split\n",
    "from sklearn.neighbors import KNeighborsClassifier\n",
    "\n",
    "# We need to split data for supervised learning models.\n",
    "X_train, X_test, y_train, y_test = train_test_split(df_preprocessed.drop('species',axis=1),target,test_size=0.50)\n",
    "\n",
    "knn = KNeighborsClassifier(n_neighbors=1)\n",
    "knn.fit(X_train,y_train)\n",
    "preds_knn = knn.predict(X_test)\n",
    "print(confusion_matrix(y_test,preds_knn))"
   ]
  },
  {
   "cell_type": "code",
   "execution_count": null,
   "id": "46271d1a",
   "metadata": {},
   "outputs": [],
   "source": [
    "plt.title(\"K Nearest Neighbors Confusion Matrix\")\n",
    "sns.heatmap(confusion_matrix(y_test,preds_knn),annot=True,cmap=\"Blues\",fmt=\"d\",cbar=False, annot_kws={\"size\": 24});"
   ]
  },
  {
   "cell_type": "code",
   "execution_count": null,
   "id": "08fda02f",
   "metadata": {},
   "outputs": [],
   "source": [
    "from sklearn.metrics import classification_report\n",
    "\n",
    "\n",
    "print(classification_report(y_test,preds_knn))"
   ]
  },
  {
   "cell_type": "code",
   "execution_count": null,
   "id": "1c438673",
   "metadata": {},
   "outputs": [],
   "source": [
    "from sklearn.metrics import accuracy_score\n",
    "\n",
    "\n",
    "print(accuracy_score(y_test,preds_knn))"
   ]
  },
  {
   "cell_type": "code",
   "execution_count": null,
   "id": "39e0d8ad",
   "metadata": {},
   "outputs": [],
   "source": [
    "print('Training set score: {:.4f}'.format(knn.score(X_train, y_train)))\n",
    "\n",
    "print('Test set score: {:.4f}'.format(knn.score(X_test, y_test)))"
   ]
  },
  {
   "cell_type": "code",
   "execution_count": null,
   "id": "5cf4a476",
   "metadata": {},
   "outputs": [],
   "source": []
  }
 ],
 "metadata": {
  "kernelspec": {
   "display_name": "Python 3 (ipykernel)",
   "language": "python",
   "name": "python3"
  },
  "language_info": {
   "codemirror_mode": {
    "name": "ipython",
    "version": 3
   },
   "file_extension": ".py",
   "mimetype": "text/x-python",
   "name": "python",
   "nbconvert_exporter": "python",
   "pygments_lexer": "ipython3",
   "version": "3.10.6"
  },
  "vscode": {
   "interpreter": {
    "hash": "b917ac782a15c85412e91d271e9a1f36b2a12eb8bb04f9c4999f64ef7ad20a8e"
   }
  }
 },
 "nbformat": 4,
 "nbformat_minor": 5
}
