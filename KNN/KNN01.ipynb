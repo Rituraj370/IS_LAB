{
 "cells": [
  {
   "cell_type": "code",
   "execution_count": 1,
   "id": "8ba37a88",
   "metadata": {},
   "outputs": [],
   "source": [
    "weather=['Sunny', 'Sunny', 'Overcast', 'Rainy', 'Rainy', 'Rainy', 'Overcast', 'Sunny', 'Rainy', 'Sunny', 'Overcast', 'Overcast', 'Rainy']"
   ]
  },
  {
   "cell_type": "code",
   "execution_count": 5,
   "id": "91fb2a67",
   "metadata": {},
   "outputs": [],
   "source": [
    "temperature=['Hot', 'Hot','Cold', 'Hot', 'Mild', 'Hot', 'Mild','Cold', 'Mild', 'Hot', 'Mild', 'Hot', 'Cold']"
   ]
  },
  {
   "cell_type": "code",
   "execution_count": 6,
   "id": "a0cd07df",
   "metadata": {},
   "outputs": [],
   "source": [
    "play=[0,1,0,0,1,0,0,0,1,1,0,1,1]"
   ]
  },
  {
   "cell_type": "code",
   "execution_count": null,
   "id": "f65a7c92",
   "metadata": {},
   "outputs": [],
   "source": []
  },
  {
   "cell_type": "code",
   "execution_count": 9,
   "id": "57ee1340",
   "metadata": {},
   "outputs": [],
   "source": [
    "from sklearn.preprocessing import LabelEncoder\n",
    "\n",
    "le = LabelEncoder()\n",
    "\n",
    "weather_encoded = le.fit_transform(weather)\n",
    "temperature_encoded = le.fit_transform(temperature)"
   ]
  },
  {
   "cell_type": "code",
   "execution_count": 16,
   "id": "130b3dd3",
   "metadata": {},
   "outputs": [
    {
     "data": {
      "text/plain": [
       "0.5384615384615384"
      ]
     },
     "execution_count": 16,
     "metadata": {},
     "output_type": "execute_result"
    }
   ],
   "source": [
    "from sklearn.neighbors import KNeighborsClassifier\n",
    "\n",
    "knn = KNeighborsClassifier(n_neighbors=13)\n",
    "\n",
    "features = list(zip(weather_encoded , temperature_encoded))\n",
    "\n",
    "knn.fit(features , play)\n",
    "\n",
    "predict = knn.predict([[0,2]])\n",
    "\n",
    "knn.score(features , play)"
   ]
  },
  {
   "cell_type": "code",
   "execution_count": null,
   "id": "c6a1df4d",
   "metadata": {},
   "outputs": [],
   "source": []
  },
  {
   "cell_type": "code",
   "execution_count": null,
   "id": "d48c7c0b",
   "metadata": {},
   "outputs": [],
   "source": []
  }
 ],
 "metadata": {
  "kernelspec": {
   "display_name": "Python 3 (ipykernel)",
   "language": "python",
   "name": "python3"
  },
  "language_info": {
   "codemirror_mode": {
    "name": "ipython",
    "version": 3
   },
   "file_extension": ".py",
   "mimetype": "text/x-python",
   "name": "python",
   "nbconvert_exporter": "python",
   "pygments_lexer": "ipython3",
   "version": "3.10.6"
  }
 },
 "nbformat": 4,
 "nbformat_minor": 5
}
